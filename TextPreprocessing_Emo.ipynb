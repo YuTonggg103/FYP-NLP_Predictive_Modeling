{
 "cells": [
  {
   "cell_type": "markdown",
   "metadata": {},
   "source": [
    "# Import Library"
   ]
  },
  {
   "cell_type": "code",
   "execution_count": 2,
   "metadata": {},
   "outputs": [],
   "source": [
    "import pandas as pd\n",
    "import nltk\n",
    "import re\n",
    "import emoji\n",
    "import ast"
   ]
  },
  {
   "cell_type": "markdown",
   "metadata": {},
   "source": [
    "# Drop Unsed Column"
   ]
  },
  {
   "cell_type": "code",
   "execution_count": null,
   "metadata": {},
   "outputs": [],
   "source": [
    "file_path = r\".\\Ori_Emotion_Dataset\\Emotions.csv\"\n",
    "data = pd.read_csv(file_path, encoding='ISO-8859-1')\n",
    "\n",
    "# sadness (0), joy (1), love (2), anger (3), fear (4), and surprise (5)\n",
    "# drop sadness , love , surprise emotion label\n",
    "data = data.drop(data[data['label'].isin([0, 2, 5])].index)\n",
    "output_file =r\".\\Pre_Emotion_Dataset\\1_drop_column.csv\"\n",
    "data.to_csv(output_file, index=False, encoding='ISO-8859-1')"
   ]
  },
  {
   "cell_type": "markdown",
   "metadata": {},
   "source": [
    "# Check & Remove Duplicated"
   ]
  },
  {
   "cell_type": "code",
   "execution_count": null,
   "metadata": {},
   "outputs": [
    {
     "name": "stdout",
     "output_type": "stream",
     "text": [
      "Number of duplicated rows: 418\n"
     ]
    }
   ],
   "source": [
    "num_duplicates = data.duplicated().sum()\n",
    "print(f\"Number of duplicated rows: {num_duplicates}\")"
   ]
  },
  {
   "cell_type": "code",
   "execution_count": null,
   "metadata": {},
   "outputs": [
    {
     "name": "stdout",
     "output_type": "stream",
     "text": [
      "Number of duplicated rows after removal: 0\n",
      "<class 'pandas.core.frame.DataFrame'>\n",
      "Index: 245678 entries, 0 to 416807\n",
      "Data columns (total 2 columns):\n",
      " #   Column  Non-Null Count   Dtype \n",
      "---  ------  --------------   ----- \n",
      " 0   text    245678 non-null  object\n",
      " 1   label   245678 non-null  int64 \n",
      "dtypes: int64(1), object(1)\n",
      "memory usage: 5.6+ MB\n"
     ]
    }
   ],
   "source": [
    "# remove duplicated\n",
    "data = data.drop_duplicates()\n",
    "num_duplicates_after = data.duplicated().sum()\n",
    "print(f\"Number of duplicated rows after removal: {num_duplicates_after}\")\n",
    "data.info()\n",
    "output_file =r\".\\Pre_Emotion_Dataset\\2_remove_duplicated.csv\"\n",
    "data.to_csv(output_file, index=False, encoding='ISO-8859-1')"
   ]
  },
  {
   "cell_type": "markdown",
   "metadata": {},
   "source": [
    "# Emotion Label Remapping"
   ]
  },
  {
   "cell_type": "code",
   "execution_count": null,
   "metadata": {},
   "outputs": [
    {
     "name": "stdout",
     "output_type": "stream",
     "text": [
      "📌 Original label distribution:\n",
      "label\n",
      "1    140779\n",
      "3     57235\n",
      "4     47664\n",
      "Name: count, dtype: int64\n",
      "\n",
      "📌 New label distribution:\n",
      "label\n",
      "0    140779\n",
      "1     57235\n",
      "2     47664\n",
      "Name: count, dtype: int64\n"
     ]
    }
   ],
   "source": [
    "# Emotion Label Remapping: joy (1 → 0), anger (3 → 1), fear (4 → 2)\n",
    "label_mapping = {1: \"joy → 0\", 3: \"anger → 1\", 4: \"fear → 2\"}\n",
    "\n",
    "# Print label distribution before mapping\n",
    "print(\"📌 Original label distribution:\")\n",
    "print(data['label'].value_counts())\n",
    "\n",
    "# Apply label mapping\n",
    "data['label'] = data['label'].replace({1: 0, 3: 1, 4: 2})\n",
    "\n",
    "# Print label distribution after mapping\n",
    "print(\"\\n📌 New label distribution:\")\n",
    "print(data['label'].value_counts())\n",
    "\n",
    "output_file = r\".\\Pre_Emotion_Dataset\\3_label_remapping.csv\"\n",
    "data.to_csv(output_file, index=False, encoding='ISO-8859-1')\n",
    "\n"
   ]
  },
  {
   "cell_type": "markdown",
   "metadata": {},
   "source": [
    "# Remove  ASCII characters/URLs/Emoji/whitespace..."
   ]
  },
  {
   "cell_type": "code",
   "execution_count": 12,
   "metadata": {},
   "outputs": [
    {
     "name": "stdout",
     "output_type": "stream",
     "text": [
      "Empty DataFrame\n",
      "Columns: [text, label]\n",
      "Index: []\n",
      "Data has been saved to .\\Pre_Emotion_Dataset\\4_remove.csv\n"
     ]
    }
   ],
   "source": [
    "pd.set_option('display.max_columns', None)\n",
    "pd.set_option('display.max_rows', None) \n",
    "pd.set_option('display.max_colwidth', None)\n",
    "\n",
    "file_path =r\".\\Pre_Emotion_Dataset\\3_label_remapping.csv\"\n",
    "df = pd.read_csv(file_path, encoding='ISO-8859-1')\n",
    "# df['text'].astype(str)\n",
    "\n",
    "# Remove ASCII characters & delete unused punctuation\n",
    "df['text'] = df['text'].apply(lambda x: re.sub(r'[^A-Za-z0-9\\s]', '', str(x)))\n",
    "\n",
    "# Remove URLs\n",
    "df['text'] = df['text'].apply(lambda x: re.sub(r'(http|https|www)\\S+', '', str(x)))\n",
    "\n",
    "# Remove HTML\n",
    "html_tags_pattern = r'<.*?>'\n",
    "# sub(pattern,replace,text)\n",
    "df['text'] = df['text'].apply(lambda x: re.sub(html_tags_pattern, '', str(x)))\n",
    "df['text'] = df['text'].apply(lambda x: re.sub(r'\\S+html\\b', '', str(x)))\n",
    "\n",
    "# Remove emojis\n",
    "def remove_emojis(text):\n",
    "    text = emoji.demojize(text)\n",
    "    text = re.sub(r':\\w+:', '', text)\n",
    "    return text\n",
    "df['text'] = df['text'].apply(remove_emojis)\n",
    "\n",
    "# Remove excessive whitespace\n",
    "# .strip() removes any leading or trailing whitespace from the text\n",
    "df['text'] = df['text'].apply(lambda x: re.sub(r'\\s+', ' ', x).strip())\n",
    "\n",
    "# Remove only number rows\n",
    "only_numbers_df = df[df['text'].astype(str).str.strip().str.isdigit()]\n",
    "print(only_numbers_df)\n",
    "df = df[~df['text'].astype(str).str.strip().str.isdigit()] #turn all data into string (astype(str), remove space (strip()), check is whole string is digit)\n",
    "\n",
    "# Remove repeated punctuation\n",
    "df['text'] = df['text'].apply(lambda x: re.sub(r'([.!?])\\s*\\1+', r'\\1', x))\n",
    "\n",
    "# Removing elongation (example: goodddddddddd)\n",
    "df['text'] = df['text'].apply(lambda x: re.sub(r'(.)\\1{2,}', r'\\1\\1', x))\n",
    "\n",
    "# Save to a new CSV file\n",
    "output_file = r\".\\Pre_Emotion_Dataset\\4_remove.csv\"\n",
    "df.to_csv(output_file, index=False, encoding=\"utf-8\")\n",
    "print(f\"Data has been saved to {output_file}\")\n"
   ]
  },
  {
   "cell_type": "markdown",
   "metadata": {},
   "source": [
    "# Check NA"
   ]
  },
  {
   "cell_type": "code",
   "execution_count": null,
   "metadata": {},
   "outputs": [
    {
     "name": "stdout",
     "output_type": "stream",
     "text": [
      "\n",
      "Missing values per column:\n",
      " text     0\n",
      "label    0\n",
      "dtype: int64\n"
     ]
    }
   ],
   "source": [
    "file_path = r\".\\Pre_Emotion_Dataset\\4_remove.csv\"\n",
    "data = pd.read_csv(file_path, encoding='ISO-8859-1')\n",
    "print(\"\\nMissing values per column:\\n\", data.isnull().sum())"
   ]
  },
  {
   "cell_type": "markdown",
   "metadata": {},
   "source": [
    "# Replace Abbreviations"
   ]
  },
  {
   "cell_type": "code",
   "execution_count": null,
   "metadata": {},
   "outputs": [
    {
     "name": "stdout",
     "output_type": "stream",
     "text": [
      "Data has been saved to .\\Pre_Emotion_Dataset\\5_Replace_Abbreviations.csv\n"
     ]
    }
   ],
   "source": [
    "# Replace Abbreviations\n",
    "file_path =  r\".\\Pre_Emotion_Dataset\\4_remove.csv\"\n",
    "df = pd.read_csv(file_path, encoding='ISO-8859-1')\n",
    "\n",
    "# Abbreviations List Get from (Pallavi Padav, 2024) and base on EDA unknown word\n",
    "abbreviations = {\n",
    "    \"arent\": \"are not\",\"werent\":\"were not\",\n",
    "    \"isnt\": \"is not\",\"wasnt\":\"was not\",\n",
    "    \"wont\": \"will not\",\n",
    "    \"wouldve\":\"would have\",\n",
    "    \"couldve\":\"could have\",\n",
    "    \"couldnt\": \"could not\",\n",
    "    \"wouldnt\": \"would not\",\n",
    "    \"shouldnt\": \"should not\",\n",
    "    \"cant\": \"can not\",\n",
    "    \"hadnt\":\"had not\",\n",
    "    \"hasnt\":\"has not\",\n",
    "    \"shes\": \"she is\",\"hes\": \"he is\",\n",
    "    \"youre\": \"you are\",\"youve\": \"you have\", \"yall\":\"you all\",\"youll\":\"you will\",\n",
    "    \"theyve\":\"they have\", \"theyd\":\"they had\",\n",
    "    \"doesnt\": \"does not\",\"dont\": \"do not\",\"didnt\": \"did not\",\n",
    "    \"im\": \"i am\", \"she's\": \"she is\",\"he's\": \"he is\",\n",
    "    \"ive\": \"i have\", \"id\": \"i would\",\n",
    "    \"itll\":\"it will\", \"itd\":\"it had\",\n",
    "    \"wth\":\"what the heal\",\"wtf\":\"what the fuck\",\n",
    "    \"fk\":\"fuck\",\"fked\":\"fuck\",\"fuk\":\"fuck\",\"fck\":\"fuck\", \"fcking\":\"fucking\",\"fuckin\":\"fuck\",\n",
    "    \"thats\":\"that is\",\n",
    "    \"jk\":\"just kidding\",\n",
    "    \"cuz\":\"because\",\n",
    "    \"bcuz\":\"because\",\n",
    "    \"fb\":\"facebook\",\n",
    "    \"u\":\"you\",\n",
    "    \"lol\":\"laughing out loud\",\n",
    "    \"lmao\":\"laughing my ass off\",\n",
    "    \"omg \":\"oh my god\",\n",
    "    \"bro\":\"brother\",\n",
    "    \"tbh\":\"to be honest\",\n",
    "    \"idk\":\"i do not know\",\n",
    "    \"congrats\":\"congratulations\",\n",
    "    \"upvote\":\"up vote\",\n",
    "    \"downvote\":\"down vote\",\"downvoted\":\"down vote\",\n",
    "    \"btw\":\"by the way\",\n",
    "    \"etc\":\"et cetera\",\n",
    "    \"img\":\"image\",\n",
    "    \"href\":\"\",\n",
    "    \"http\":\"\",\n",
    "    \"src\":\"\",\n",
    "    \"ww\":\"\",\n",
    "}\n",
    "\n",
    "def replace_abbreviations(text):\n",
    "    text = str(text)\n",
    "    for abbr, full_form in abbreviations.items():\n",
    "        text = re.sub(r'\\b' + re.escape(abbr) + r'\\b', full_form, text)\n",
    "    return str(text)\n",
    "\n",
    "df['text'] = df['text'].apply(replace_abbreviations)\n",
    "\n",
    "output_file = r\".\\Pre_Emotion_Dataset\\5_Replace_Abbreviations.csv\"\n",
    "df.to_csv(output_file, index=False, encoding=\"utf-8\")\n",
    "print(f\"Data has been saved to {output_file}\")"
   ]
  },
  {
   "cell_type": "markdown",
   "metadata": {},
   "source": [
    "# Tokenization"
   ]
  },
  {
   "cell_type": "code",
   "execution_count": 23,
   "metadata": {},
   "outputs": [
    {
     "name": "stdout",
     "output_type": "stream",
     "text": [
      "Data has been saved to .\\Pre_Emotion_Dataset\\6_Tokenization.csv\n"
     ]
    }
   ],
   "source": [
    "# Tokenization\n",
    "file_path =  r\".\\Pre_Emotion_Dataset\\5_Replace_Abbreviations.csv\"\n",
    "df = pd.read_csv(file_path, encoding='ISO-8859-1')\n",
    "filteredTokens = []\n",
    "for token in df['text']:\n",
    "    token = str(token)\n",
    "    wordtokens = nltk.tokenize.word_tokenize(token)\n",
    "    filteredTokens.append(wordtokens)\n",
    "df['text']=filteredTokens\n",
    "\n",
    "output_file = r\".\\Pre_Emotion_Dataset\\6_Tokenization.csv\"\n",
    "df.to_csv(output_file, index=False, encoding=\"utf-8\")\n",
    "print(f\"Data has been saved to {output_file}\")\n"
   ]
  },
  {
   "cell_type": "markdown",
   "metadata": {},
   "source": [
    "# Remove Stop Word"
   ]
  },
  {
   "cell_type": "code",
   "execution_count": 24,
   "metadata": {},
   "outputs": [
    {
     "name": "stdout",
     "output_type": "stream",
     "text": [
      "Data has been saved to .\\Pre_Emotion_Dataset\\7_Remove_StopWord.csv\n"
     ]
    }
   ],
   "source": [
    "# Remove Stop Word\n",
    "file_path = r\".\\Pre_Emotion_Dataset\\6_Tokenization.csv\"\n",
    "df = pd.read_csv(file_path, encoding='ISO-8859-1')\n",
    "\n",
    "# Convert strings back to lists, stored as strings in the CSV file\n",
    "df['text'] = df['text'].apply(lambda x: ast.literal_eval(x) if isinstance(x, str) else x)\n",
    "\n",
    "stopTokens = nltk.corpus.stopwords.words(\"english\")\n",
    "\n",
    "stopTokens.remove('not') \n",
    "stopTokens.remove('no') \n",
    "\n",
    "def removeStopWord(words):\n",
    "    return [word for word in words if word.lower() not in stopTokens]\n",
    "df['text'] = df['text'].apply(removeStopWord)\n",
    "\n",
    "output_file = r\".\\Pre_Emotion_Dataset\\7_Remove_StopWord.csv\"\n",
    "df.to_csv(output_file, index=False, encoding=\"utf-8\")\n",
    "print(f\"Data has been saved to {output_file}\")"
   ]
  },
  {
   "cell_type": "markdown",
   "metadata": {},
   "source": [
    "# Lemmatization"
   ]
  },
  {
   "cell_type": "code",
   "execution_count": 25,
   "metadata": {},
   "outputs": [
    {
     "name": "stderr",
     "output_type": "stream",
     "text": [
      "[nltk_data] Downloading package wordnet to\n",
      "[nltk_data]     C:\\Users\\Asus\\AppData\\Roaming\\nltk_data...\n",
      "[nltk_data]   Package wordnet is already up-to-date!\n",
      "[nltk_data] Downloading package averaged_perceptron_tagger to\n",
      "[nltk_data]     C:\\Users\\Asus\\AppData\\Roaming\\nltk_data...\n",
      "[nltk_data]   Package averaged_perceptron_tagger is already up-to-\n",
      "[nltk_data]       date!\n"
     ]
    },
    {
     "name": "stdout",
     "output_type": "stream",
     "text": [
      "Data has been saved to .\\Pre_Emotion_Dataset\\8_Lemmatization.csv\n"
     ]
    }
   ],
   "source": [
    "# 17. Lemmatization\n",
    "import nltk\n",
    "from nltk.stem import WordNetLemmatizer\n",
    "from nltk.corpus import wordnet\n",
    "import pandas as pd\n",
    "nltk.download('wordnet')\n",
    "nltk.download('averaged_perceptron_tagger') #used for Part-of-Speech (POS) tagging\n",
    "\n",
    "lemmatizer = WordNetLemmatizer()\n",
    "\n",
    "def get_pos_tagging(word):\n",
    "    tag = nltk.pos_tag([word])[0][1][0].upper()\n",
    "    tag_dict = {\"J\": wordnet.ADJ, \"N\": wordnet.NOUN, \"V\": wordnet.VERB, \"R\": wordnet.ADV}\n",
    "    return tag_dict.get(tag, wordnet.NOUN)  # Default to noun if no match\n",
    "\n",
    "def lemmatize_text(text):\n",
    "    lemmatized_words = [lemmatizer.lemmatize(word, get_pos_tagging(word)) for word in text] \n",
    "    return ' '.join(lemmatized_words)\n",
    "df['text'] = df['text'].apply(lemmatize_text)\n",
    "\n",
    "output_file =r\".\\Pre_Emotion_Dataset\\8_Lemmatization.csv\"\n",
    "df.to_csv(output_file, index=False, encoding=\"utf-8\")\n",
    "print(f\"Data has been saved to {output_file}\")\n"
   ]
  },
  {
   "cell_type": "markdown",
   "metadata": {},
   "source": [
    "## Last Check"
   ]
  },
  {
   "cell_type": "code",
   "execution_count": 3,
   "metadata": {},
   "outputs": [
    {
     "data": {
      "text/plain": [
       "text     0\n",
       "label    0\n",
       "dtype: int64"
      ]
     },
     "execution_count": 3,
     "metadata": {},
     "output_type": "execute_result"
    }
   ],
   "source": [
    "checkNull_file_path = r\".\\Pre_Emotion_Dataset\\8_Lemmatization.csv\"\n",
    "checkNull = pd.read_csv(checkNull_file_path, encoding='ISO-8859-1')\n",
    "checkNull.isnull().sum()"
   ]
  },
  {
   "cell_type": "code",
   "execution_count": null,
   "metadata": {},
   "outputs": [
    {
     "name": "stdout",
     "output_type": "stream",
     "text": [
      "\n",
      "Missing values per column:\n",
      " text     0\n",
      "label    0\n",
      "dtype: int64\n"
     ]
    }
   ],
   "source": [
    "# drop na\n",
    "file_path = r\".\\Pre_Emotion_Dataset\\8_Lemmatization.csv\"\n",
    "data = pd.read_csv(file_path, encoding='ISO-8859-1')\n",
    "\n",
    "print(\"\\nMissing values per column:\\n\",data.isnull().sum())\n",
    "data = data.dropna(subset=['text'])\n",
    "\n",
    "print(\"\\nMissing values per column after dropping NaN:\\n\",data.isnull().sum())\n",
    "# data.info()\n",
    "output_file =r\".\\Pre_Emotion_Dataset\\8_Lemmatization.csv\"\n",
    "data.to_csv(output_file, index=False, encoding='ISO-8859-1')\n"
   ]
  },
  {
   "cell_type": "code",
   "execution_count": 8,
   "metadata": {},
   "outputs": [
    {
     "name": "stdout",
     "output_type": "stream",
     "text": [
      "Number of duplicated rows: 9694\n"
     ]
    }
   ],
   "source": [
    "# Check Dup\n",
    "file_path = r\".\\Pre_Emotion_Dataset\\8_Lemmatization.csv\"\n",
    "data = pd.read_csv(file_path, encoding='ISO-8859-1')\n",
    "\n",
    "num_duplicates = data.duplicated().sum()\n",
    "print(f\"Number of duplicated rows: {num_duplicates}\")\n"
   ]
  },
  {
   "cell_type": "code",
   "execution_count": 6,
   "metadata": {},
   "outputs": [
    {
     "name": "stdout",
     "output_type": "stream",
     "text": [
      "Number of duplicated rows after removal: 0\n",
      "<class 'pandas.core.frame.DataFrame'>\n",
      "Index: 235972 entries, 0 to 245665\n",
      "Data columns (total 2 columns):\n",
      " #   Column  Non-Null Count   Dtype \n",
      "---  ------  --------------   ----- \n",
      " 0   text    235972 non-null  object\n",
      " 1   label   235972 non-null  int64 \n",
      "dtypes: int64(1), object(1)\n",
      "memory usage: 5.4+ MB\n"
     ]
    }
   ],
   "source": [
    "# remove duplicated\n",
    "data = data.drop_duplicates()\n",
    "num_duplicates_after = data.duplicated().sum()\n",
    "print(f\"Number of duplicated rows after removal: {num_duplicates_after}\")\n",
    "data.info()\n",
    "output_file =r\".\\Pre_Emotion_Dataset\\8_Lemmatization_new.csv\"\n",
    "data.to_csv(output_file, index=False, encoding='ISO-8859-1')"
   ]
  },
  {
   "cell_type": "markdown",
   "metadata": {},
   "source": [
    "# EDA After Text Preprocessing"
   ]
  },
  {
   "cell_type": "markdown",
   "metadata": {},
   "source": [
    "## Unknown Word"
   ]
  },
  {
   "cell_type": "code",
   "execution_count": 29,
   "metadata": {},
   "outputs": [
    {
     "name": "stderr",
     "output_type": "stream",
     "text": [
      "[nltk_data] Downloading package wordnet to\n",
      "[nltk_data]     C:\\Users\\Asus\\AppData\\Roaming\\nltk_data...\n",
      "[nltk_data]   Package wordnet is already up-to-date!\n",
      "[nltk_data] Downloading package words to\n",
      "[nltk_data]     C:\\Users\\Asus\\AppData\\Roaming\\nltk_data...\n",
      "[nltk_data]   Package words is already up-to-date!\n"
     ]
    },
    {
     "name": "stdout",
     "output_type": "stream",
     "text": [
      "             word  frequency\n",
      "2          others       2344\n",
      "8     overwhelmed       1785\n",
      "25             et        627\n",
      "26         cetera        619\n",
      "29       facebook        437\n",
      "41       blogging        430\n",
      "27        happens        411\n",
      "237           soo        314\n",
      "1002           gt        263\n",
      "433          haha        234\n",
      "249      betrayed        195\n",
      "46           alot        180\n",
      "904        brings        174\n",
      "21         judged        170\n",
      "175        feelin        166\n",
      "104        allows        138\n",
      "573        deeper        131\n",
      "592    challenged        130\n",
      "396     everytime        125\n",
      "3           dunno        120\n",
      "501            dr        118\n",
      "159           pre        114\n",
      "247            lt        111\n",
      "536         obama        106\n",
      "199      deserves        105\n",
      "205           lil        104\n",
      "571       reminds         96\n",
      "121           ups         95\n",
      "208         safer         95\n",
      "242     everyones         92\n",
      "31          elses         88\n",
      "279       youtube         86\n",
      "543       hardest         83\n",
      "7             hed         82\n",
      "1356      anytime         82\n",
      "282        hellip         80\n",
      "444           ish         79\n",
      "55            del         78\n",
      "35         robbed         77\n",
      "750           ppl         76\n",
      "1321       prayed         76\n",
      "462            xd         75\n",
      "678          asks         75\n",
      "1015          emo         74\n",
      "50          sorta         73\n",
      "5       pagetitle         72\n",
      "38          chris         71\n",
      "588        jumped         70\n",
      "502           uni         70\n",
      "655     pinterest         70\n",
      "280        exists         69\n",
      "364   understands         65\n",
      "460       smarter         60\n",
      "412         woken         59\n",
      "934           ltr         59\n",
      "719     slightest         59\n",
      "1792     nofollow         58\n",
      "2732         abit         58\n",
      "1793         digg         58\n",
      "20             bf         58\n",
      "166        hahaha         57\n",
      "1910    permalink         57\n",
      "674         tends         54\n",
      "881          ryan         54\n",
      "392          uber         54\n",
      "125         steve         53\n",
      "1934           lj         53\n",
      "283        speaks         53\n",
      "431     coworkers         52\n",
      "815       deepest         51\n",
      "1155           rd         51\n",
      "458          hehe         51\n",
      "565       grabbed         50\n",
      "1594         dave         49\n",
      "1861       iphone         49\n",
      "397           eco         49\n",
      "250      involves         49\n",
      "538      brighter         48\n",
      "421        darker         46\n",
      "149     childrens         45\n",
      "370   everythings         45\n",
      "365        snarky         45\n",
      "2657      creates         44\n",
      "739            ol         44\n",
      "2417       popped         43\n",
      "920       anyones         43\n",
      "3574          jim         43\n",
      "972       blogged         43\n",
      "1769          app         42\n",
      "373         chemo         42\n",
      "308     describes         41\n",
      "496       depends         41\n",
      "553     instagram         40\n",
      "1006         alex         40\n",
      "2752       ripped         40\n",
      "756        womens         40\n",
      "1997        pissy         39\n",
      "1456         kate         39\n",
      "2299        brian         39\n",
      "732       claimed         39\n"
     ]
    },
    {
     "data": {
      "image/png": "[encoded data removed]",
      "text/plain": [
       "<Figure size 1000x600 with 1 Axes>"
      ]
     },
     "metadata": {},
     "output_type": "display_data"
    }
   ],
   "source": [
    "# unknow word\n",
    "import pandas as pd\n",
    "import re\n",
    "from nltk.corpus import wordnet, words\n",
    "import nltk\n",
    "from collections import Counter\n",
    "import matplotlib.pyplot as plt\n",
    "\n",
    "nltk.download('wordnet')\n",
    "nltk.download('words')\n",
    "\n",
    "file_path = r\".\\Pre_Emotion_Dataset\\8_Lemmatization.csv\"\n",
    "data = pd.read_csv(file_path, encoding='ISO-8859-1', low_memory=False)\n",
    "text_data = data['text']\n",
    "\n",
    "# Combine WordNet and NLTK word list vocabularies\n",
    "combined_vocab = set(words.words()) | set(wordnet.words())\n",
    "\n",
    "def find_unknown_words_combined(text):\n",
    "    if not isinstance(text, str):  # Skip non-string values\n",
    "        return []\n",
    "    words_in_text = re.findall(r'\\b\\w+\\b', text.lower())  # Extract words (ignoring punctuation)\n",
    "    return [word for word in words_in_text if word not in combined_vocab]\n",
    "\n",
    "data['unknown_words'] = data['text'].apply(find_unknown_words_combined)\n",
    "\n",
    "# Flatten all unknown words into a single list\n",
    "all_unknown_words = [word for words in data['unknown_words'] for word in words]\n",
    "\n",
    "# Calculate the frequency of each unknown word\n",
    "unknown_word_freq = Counter(all_unknown_words)\n",
    "\n",
    "# Convert frequency to a DataFrame for visualization\n",
    "freq_df = pd.DataFrame(unknown_word_freq.items(), columns=['word', 'frequency']).sort_values(by='frequency', ascending=False)\n",
    "print(freq_df.head(100))\n",
    "\n",
    "top_unknown = freq_df.head(20)\n",
    "plt.figure(figsize=(10, 6))\n",
    "plt.barh(top_unknown['word'], top_unknown['frequency'], color='purple')\n",
    "plt.xlabel('Frequency')\n",
    "plt.ylabel('Unknown Words')\n",
    "plt.title('Top 20 Most Frequent Unknown Words')\n",
    "plt.gca().invert_yaxis()  # Display the most frequent at the top\n",
    "plt.show()\n"
   ]
  }
 ],
 "metadata": {
  "kernelspec": {
   "display_name": "Python 3",
   "language": "python",
   "name": "python3"
  },
  "language_info": {
   "codemirror_mode": {
    "name": "ipython",
    "version": 3
   },
   "file_extension": ".py",
   "mimetype": "text/x-python",
   "name": "python",
   "nbconvert_exporter": "python",
   "pygments_lexer": "ipython3",
   "version": "3.12.6"
  }
 },
 "nbformat": 4,
 "nbformat_minor": 2
}
